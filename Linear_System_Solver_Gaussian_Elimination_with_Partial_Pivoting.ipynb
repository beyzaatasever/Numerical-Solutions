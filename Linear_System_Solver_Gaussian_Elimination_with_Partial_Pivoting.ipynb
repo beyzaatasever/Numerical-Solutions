{
  "nbformat": 4,
  "nbformat_minor": 0,
  "metadata": {
    "colab": {
      "provenance": [],
      "authorship_tag": "ABX9TyPOu/pCvqTpBa1HanJha56R",
      "include_colab_link": true
    },
    "kernelspec": {
      "name": "python3",
      "display_name": "Python 3"
    },
    "language_info": {
      "name": "python"
    }
  },
  "cells": [
    {
      "cell_type": "markdown",
      "metadata": {
        "id": "view-in-github",
        "colab_type": "text"
      },
      "source": [
        "<a href=\"https://colab.research.google.com/github/beyzaatasever/Numerical-Solutions/blob/main/Linear_System_Solver_Gaussian_Elimination_with_Partial_Pivoting.ipynb\" target=\"_parent\"><img src=\"https://colab.research.google.com/assets/colab-badge.svg\" alt=\"Open In Colab\"/></a>"
      ]
    },
    {
      "cell_type": "code",
      "source": [
        "import numpy as np\n",
        "\n",
        "# System of equations\n",
        "A = np.array([[1, -1, 2, 1],\n",
        "              [3, 2, 1, 4],\n",
        "              [5, -8, 6, 3],\n",
        "              [4, 2, 5, 3]], dtype=float)\n",
        "\n",
        "b = np.array([1, 1, 1, -1], dtype=float)\n",
        "l = len(b)  # Renamed n to l\n",
        "x = np.zeros(l, float)\n",
        "\n",
        "# Augmented matrix [A | b]\n",
        "AB = np.concatenate((A, b.reshape(-1, 1)), axis=1)\n",
        "print(f\"Initial augmented matrix:\\n{AB}\")\n",
        "\n",
        "# Partial Pivoting\n",
        "i = 0\n",
        "while i < l:  # Renamed n to l\n",
        "\n",
        "    # Partial pivoting forward\n",
        "    for j in range(i+1, l):  # Renamed n to l\n",
        "        if abs(AB[i, i]) < abs(AB[j, i]):\n",
        "            AB[[i, j]] = AB[[j, i]]\n",
        "\n",
        "    if AB[i, i] == 0.0:\n",
        "        print(\"Divide by zero error\")\n",
        "        break\n",
        "\n",
        "    for j in range(i+1, l):  # Renamed n to l\n",
        "        scaling = AB[j][i] / AB[i][i]\n",
        "        AB[j] -= scaling * AB[i]\n",
        "        print(f\"Elimination step:\\n{AB}\")\n",
        "    i += 1\n",
        "\n",
        "# Backward Substitution\n",
        "x[l - 1] = AB[l - 1][l] / AB[l - 1][l - 1]\n",
        "\n",
        "for k in range(l - 2, -1, -1):\n",
        "    x[k] = AB[k][l]\n",
        "\n",
        "    for j in range(k + 1, l):  # Renamed n to l\n",
        "        x[k] -= AB[k][j] * x[j]\n",
        "\n",
        "    x[k] /= AB[k][k]\n",
        "\n",
        "# Results\n",
        "print(\"Solutions of the initial matrix:\")\n",
        "for idx, sol in enumerate(x):\n",
        "    print(f\"x[{idx}] is {sol}\")\n"
      ],
      "metadata": {
        "colab": {
          "base_uri": "https://localhost:8080/"
        },
        "id": "r4xRNSg4YHb0",
        "outputId": "8af7a79e-f739-47ce-e847-e6c5c91d5fc4"
      },
      "execution_count": null,
      "outputs": [
        {
          "output_type": "stream",
          "name": "stdout",
          "text": [
            "Initial augmented matrix:\n",
            "[[ 1. -1.  2.  1.  1.]\n",
            " [ 3.  2.  1.  4.  1.]\n",
            " [ 5. -8.  6.  3.  1.]\n",
            " [ 4.  2.  5.  3. -1.]]\n",
            "Elimination step:\n",
            "[[ 5.  -8.   6.   3.   1. ]\n",
            " [ 0.   0.6  0.8  0.4  0.8]\n",
            " [ 3.   2.   1.   4.   1. ]\n",
            " [ 4.   2.   5.   3.  -1. ]]\n",
            "Elimination step:\n",
            "[[ 5.  -8.   6.   3.   1. ]\n",
            " [ 0.   0.6  0.8  0.4  0.8]\n",
            " [ 0.   6.8 -2.6  2.2  0.4]\n",
            " [ 4.   2.   5.   3.  -1. ]]\n",
            "Elimination step:\n",
            "[[ 5.  -8.   6.   3.   1. ]\n",
            " [ 0.   0.6  0.8  0.4  0.8]\n",
            " [ 0.   6.8 -2.6  2.2  0.4]\n",
            " [ 0.   8.4  0.2  0.6 -1.8]]\n",
            "Elimination step:\n",
            "[[ 5.         -8.          6.          3.          1.        ]\n",
            " [ 0.          8.4         0.2         0.6        -1.8       ]\n",
            " [ 0.          0.          0.78571429  0.35714286  0.92857143]\n",
            " [ 0.          6.8        -2.6         2.2         0.4       ]]\n",
            "Elimination step:\n",
            "[[ 5.         -8.          6.          3.          1.        ]\n",
            " [ 0.          8.4         0.2         0.6        -1.8       ]\n",
            " [ 0.          0.          0.78571429  0.35714286  0.92857143]\n",
            " [ 0.          0.         -2.76190476  1.71428571  1.85714286]]\n",
            "Elimination step:\n",
            "[[ 5.         -8.          6.          3.          1.        ]\n",
            " [ 0.          8.4         0.2         0.6        -1.8       ]\n",
            " [ 0.          0.         -2.76190476  1.71428571  1.85714286]\n",
            " [ 0.          0.          0.          0.84482759  1.45689655]]\n",
            "Solutions of the initial matrix:\n",
            "x[0] is -1.8673469387755106\n",
            "x[1] is -0.346938775510204\n",
            "x[2] is 0.3979591836734698\n",
            "x[3] is 1.7244897959183672\n"
          ]
        }
      ]
    }
  ]
}